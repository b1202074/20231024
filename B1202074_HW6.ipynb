{
  "nbformat": 4,
  "nbformat_minor": 0,
  "metadata": {
    "colab": {
      "provenance": []
    },
    "kernelspec": {
      "name": "python3",
      "display_name": "Python 3"
    },
    "language_info": {
      "name": "python"
    }
  },
  "cells": [
    {
      "cell_type": "code",
      "execution_count": 3,
      "metadata": {
        "colab": {
          "base_uri": "https://localhost:8080/"
        },
        "id": "5OCiQ6xSr2wo",
        "outputId": "1fcde48f-b432-4b27-bdcd-0e5fdc97d331"
      },
      "outputs": [
        {
          "output_type": "stream",
          "name": "stdout",
          "text": [
            "請輸入高度(七以上的整數)：8\n",
            "        *\n",
            "       ***\n",
            "      *****\n",
            "     *******\n",
            "    *********\n",
            "   ***********\n",
            "  *************\n",
            " ***************\n",
            "       ***\n",
            "       ***\n",
            "       ***\n",
            "       ***\n",
            "       ***\n"
          ]
        }
      ],
      "source": [
        "height=int(input(\"請輸入高度(七以上的整數)：\"))\n",
        "def tree(height):\n",
        "  star=1\n",
        "  for i in range(height):\n",
        "    print(\" \" * (height-i)+ \"*\" * star)\n",
        "    star+=2\n",
        "  for j in range(5):\n",
        "    print(\" \" * (height-1)+ \"*\" * 3)\n",
        "tree(height)"
      ]
    },
    {
      "cell_type": "code",
      "source": [
        "a=input(\"請輸入身高(公分): \")\n",
        "def bmi(a):\n",
        "  try:\n",
        "    height=float(a)\n",
        "  except ValueError:\n",
        "    print(\"輸入內容錯誤\")\n",
        "  else:\n",
        "    b=input(\"請輸入體重(公斤): \")\n",
        "    try:\n",
        "      weight=float(b)\n",
        "    except ValueError:\n",
        "      print(\"輸入內容錯誤\")\n",
        "  HEIGHT=height/100\n",
        "  BMI=weight/HEIGHT/HEIGHT\n",
        "  if(BMI<18.5):\n",
        "    print(\"過輕\")\n",
        "  elif(18.5<=BMI<24):\n",
        "    print(\"適中\")\n",
        "  elif(24<=BMI<27):\n",
        "    print(\"過重\")\n",
        "  elif(BMI>=27):\n",
        "    print(\"肥胖\")\n",
        "bmi(a)"
      ],
      "metadata": {
        "colab": {
          "base_uri": "https://localhost:8080/"
        },
        "id": "E1dMoJ2vr4Ik",
        "outputId": "f106227e-c2e0-4cd3-c9c6-ed5245776073"
      },
      "execution_count": 2,
      "outputs": [
        {
          "output_type": "stream",
          "name": "stdout",
          "text": [
            "請輸入身高(公分): 150\n",
            "請輸入體重(公斤): 60\n",
            "過重\n"
          ]
        }
      ]
    }
  ]
}